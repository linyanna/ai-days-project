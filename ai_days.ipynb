{
 "cells": [
  {
   "cell_type": "code",
   "execution_count": 283,
   "id": "1cc82278",
   "metadata": {},
   "outputs": [],
   "source": [
    "import numpy as np\n",
    "import pandas as pd\n",
    "import tensorflow as tf\n",
    "import tensorflow_data_validation as tfdv\n",
    "import os\n",
    "\n",
    "from tensorflow import keras\n",
    "from tensorflow.keras.layers import Conv2D, MaxPooling2D, Dropout, Flatten, Dense\n",
    "from sklearn.preprocessing import MinMaxScaler\n",
    "\n",
    "import matplotlib.pyplot as plt"
   ]
  },
  {
   "cell_type": "code",
   "execution_count": null,
   "id": "44332328",
   "metadata": {},
   "outputs": [],
   "source": []
  },
  {
   "cell_type": "code",
   "execution_count": null,
   "id": "ef756054",
   "metadata": {},
   "outputs": [],
   "source": []
  },
  {
   "cell_type": "code",
   "execution_count": 127,
   "id": "7ea25101",
   "metadata": {},
   "outputs": [
    {
     "data": {
      "text/html": [
       "<div>\n",
       "<style scoped>\n",
       "    .dataframe tbody tr th:only-of-type {\n",
       "        vertical-align: middle;\n",
       "    }\n",
       "\n",
       "    .dataframe tbody tr th {\n",
       "        vertical-align: top;\n",
       "    }\n",
       "\n",
       "    .dataframe thead th {\n",
       "        text-align: right;\n",
       "    }\n",
       "</style>\n",
       "<table border=\"1\" class=\"dataframe\">\n",
       "  <thead>\n",
       "    <tr style=\"text-align: right;\">\n",
       "      <th></th>\n",
       "      <th>RegionID</th>\n",
       "      <th>SizeRank</th>\n",
       "      <th>RegionName</th>\n",
       "      <th>RegionType</th>\n",
       "      <th>StateName</th>\n",
       "      <th>State</th>\n",
       "      <th>City</th>\n",
       "      <th>Metro</th>\n",
       "      <th>CountyName</th>\n",
       "      <th>2000-01-31</th>\n",
       "      <th>...</th>\n",
       "      <th>2021-12-31</th>\n",
       "      <th>2022-01-31</th>\n",
       "      <th>2022-02-28</th>\n",
       "      <th>2022-03-31</th>\n",
       "      <th>2022-04-30</th>\n",
       "      <th>2022-05-31</th>\n",
       "      <th>2022-06-30</th>\n",
       "      <th>2022-07-31</th>\n",
       "      <th>2022-08-31</th>\n",
       "      <th>2022-09-30</th>\n",
       "    </tr>\n",
       "  </thead>\n",
       "  <tbody>\n",
       "    <tr>\n",
       "      <th>0</th>\n",
       "      <td>91940</td>\n",
       "      <td>0</td>\n",
       "      <td>77449</td>\n",
       "      <td>zip</td>\n",
       "      <td>TX</td>\n",
       "      <td>TX</td>\n",
       "      <td>NaN</td>\n",
       "      <td>Houston-The Woodlands-Sugar Land, TX</td>\n",
       "      <td>Harris County</td>\n",
       "      <td>106672.0</td>\n",
       "      <td>...</td>\n",
       "      <td>251930.0</td>\n",
       "      <td>255861.0</td>\n",
       "      <td>260506.0</td>\n",
       "      <td>266174.0</td>\n",
       "      <td>272442.0</td>\n",
       "      <td>278528.0</td>\n",
       "      <td>283555.0</td>\n",
       "      <td>286948.0</td>\n",
       "      <td>288863.0</td>\n",
       "      <td>289504.0</td>\n",
       "    </tr>\n",
       "    <tr>\n",
       "      <th>1</th>\n",
       "      <td>91982</td>\n",
       "      <td>1</td>\n",
       "      <td>77494</td>\n",
       "      <td>zip</td>\n",
       "      <td>TX</td>\n",
       "      <td>TX</td>\n",
       "      <td>NaN</td>\n",
       "      <td>Houston-The Woodlands-Sugar Land, TX</td>\n",
       "      <td>Fort Bend County</td>\n",
       "      <td>223357.0</td>\n",
       "      <td>...</td>\n",
       "      <td>439209.0</td>\n",
       "      <td>445272.0</td>\n",
       "      <td>454755.0</td>\n",
       "      <td>466373.0</td>\n",
       "      <td>480063.0</td>\n",
       "      <td>491447.0</td>\n",
       "      <td>498934.0</td>\n",
       "      <td>501198.0</td>\n",
       "      <td>499334.0</td>\n",
       "      <td>499877.0</td>\n",
       "    </tr>\n",
       "    <tr>\n",
       "      <th>2</th>\n",
       "      <td>93144</td>\n",
       "      <td>2</td>\n",
       "      <td>79936</td>\n",
       "      <td>zip</td>\n",
       "      <td>TX</td>\n",
       "      <td>TX</td>\n",
       "      <td>El Paso</td>\n",
       "      <td>El Paso, TX</td>\n",
       "      <td>El Paso County</td>\n",
       "      <td>90482.0</td>\n",
       "      <td>...</td>\n",
       "      <td>174265.0</td>\n",
       "      <td>176277.0</td>\n",
       "      <td>178252.0</td>\n",
       "      <td>180407.0</td>\n",
       "      <td>183773.0</td>\n",
       "      <td>187384.0</td>\n",
       "      <td>190834.0</td>\n",
       "      <td>193074.0</td>\n",
       "      <td>194779.0</td>\n",
       "      <td>196166.0</td>\n",
       "    </tr>\n",
       "    <tr>\n",
       "      <th>3</th>\n",
       "      <td>62080</td>\n",
       "      <td>3</td>\n",
       "      <td>11368</td>\n",
       "      <td>zip</td>\n",
       "      <td>NY</td>\n",
       "      <td>NY</td>\n",
       "      <td>New York</td>\n",
       "      <td>New York-Newark-Jersey City, NY-NJ-PA</td>\n",
       "      <td>Queens County</td>\n",
       "      <td>187749.0</td>\n",
       "      <td>...</td>\n",
       "      <td>571191.0</td>\n",
       "      <td>569363.0</td>\n",
       "      <td>569160.0</td>\n",
       "      <td>571091.0</td>\n",
       "      <td>572605.0</td>\n",
       "      <td>575407.0</td>\n",
       "      <td>577640.0</td>\n",
       "      <td>579764.0</td>\n",
       "      <td>580707.0</td>\n",
       "      <td>583489.0</td>\n",
       "    </tr>\n",
       "    <tr>\n",
       "      <th>4</th>\n",
       "      <td>62093</td>\n",
       "      <td>4</td>\n",
       "      <td>11385</td>\n",
       "      <td>zip</td>\n",
       "      <td>NY</td>\n",
       "      <td>NY</td>\n",
       "      <td>New York</td>\n",
       "      <td>New York-Newark-Jersey City, NY-NJ-PA</td>\n",
       "      <td>Queens County</td>\n",
       "      <td>275753.0</td>\n",
       "      <td>...</td>\n",
       "      <td>744928.0</td>\n",
       "      <td>748113.0</td>\n",
       "      <td>751397.0</td>\n",
       "      <td>757101.0</td>\n",
       "      <td>759701.0</td>\n",
       "      <td>765523.0</td>\n",
       "      <td>770799.0</td>\n",
       "      <td>775959.0</td>\n",
       "      <td>778630.0</td>\n",
       "      <td>781713.0</td>\n",
       "    </tr>\n",
       "  </tbody>\n",
       "</table>\n",
       "<p>5 rows × 282 columns</p>\n",
       "</div>"
      ],
      "text/plain": [
       "   RegionID  SizeRank  RegionName RegionType StateName State      City  \\\n",
       "0     91940         0       77449        zip        TX    TX       NaN   \n",
       "1     91982         1       77494        zip        TX    TX       NaN   \n",
       "2     93144         2       79936        zip        TX    TX   El Paso   \n",
       "3     62080         3       11368        zip        NY    NY  New York   \n",
       "4     62093         4       11385        zip        NY    NY  New York   \n",
       "\n",
       "                                   Metro        CountyName  2000-01-31  ...  \\\n",
       "0   Houston-The Woodlands-Sugar Land, TX     Harris County    106672.0  ...   \n",
       "1   Houston-The Woodlands-Sugar Land, TX  Fort Bend County    223357.0  ...   \n",
       "2                            El Paso, TX    El Paso County     90482.0  ...   \n",
       "3  New York-Newark-Jersey City, NY-NJ-PA     Queens County    187749.0  ...   \n",
       "4  New York-Newark-Jersey City, NY-NJ-PA     Queens County    275753.0  ...   \n",
       "\n",
       "   2021-12-31  2022-01-31  2022-02-28  2022-03-31  2022-04-30  2022-05-31  \\\n",
       "0    251930.0    255861.0    260506.0    266174.0    272442.0    278528.0   \n",
       "1    439209.0    445272.0    454755.0    466373.0    480063.0    491447.0   \n",
       "2    174265.0    176277.0    178252.0    180407.0    183773.0    187384.0   \n",
       "3    571191.0    569363.0    569160.0    571091.0    572605.0    575407.0   \n",
       "4    744928.0    748113.0    751397.0    757101.0    759701.0    765523.0   \n",
       "\n",
       "   2022-06-30  2022-07-31  2022-08-31  2022-09-30  \n",
       "0    283555.0    286948.0    288863.0    289504.0  \n",
       "1    498934.0    501198.0    499334.0    499877.0  \n",
       "2    190834.0    193074.0    194779.0    196166.0  \n",
       "3    577640.0    579764.0    580707.0    583489.0  \n",
       "4    770799.0    775959.0    778630.0    781713.0  \n",
       "\n",
       "[5 rows x 282 columns]"
      ]
     },
     "execution_count": 127,
     "metadata": {},
     "output_type": "execute_result"
    }
   ],
   "source": [
    "z_df = pd.read_csv(\"/home/justin/Downloads/emissions/zhvi.csv\")\n",
    "z_df.head()"
   ]
  },
  {
   "cell_type": "code",
   "execution_count": 218,
   "id": "c3c27991",
   "metadata": {},
   "outputs": [
    {
     "name": "stdout",
     "output_type": "stream",
     "text": [
      "4899\n"
     ]
    }
   ],
   "source": [
    "emissions_df = pd.read_csv(\"/home/justin/Downloads/emissions/ghgp_data_by_year.csv\", usecols = [3,4,5,13,14,15,16,17,18,19,20,21,22,23], skiprows = [0,1,2])\n",
    "emissions_df = emissions_df.fillna(0)\n",
    "emissions_np = emissions_df.to_numpy()\n",
    "emissions_df.head()\n",
    "cities = emissions_df['City'].unique()\n",
    "cities = [str(c).upper() for c in cities]\n",
    "print(len(cities))"
   ]
  },
  {
   "cell_type": "code",
   "execution_count": 219,
   "id": "0c5dbc91",
   "metadata": {},
   "outputs": [],
   "source": [
    "realty_df = pd.read_csv(\"/home/justin/Downloads/emissions/realtor-data.csv\",usecols=[1,7,8,9,11])\n",
    "realty_df.dropna(subset=['sold_date'])\n",
    "realty_df = realty_df[(realty_df.sold_date > '2011-01-01') & (realty_df.sold_date < '2022-01-01')]\n",
    "realty_df['city'] = realty_df['city'].str.upper()"
   ]
  },
  {
   "cell_type": "code",
   "execution_count": 220,
   "id": "79b2eab1",
   "metadata": {},
   "outputs": [
    {
     "data": {
      "text/html": [
       "<div>\n",
       "<style scoped>\n",
       "    .dataframe tbody tr th:only-of-type {\n",
       "        vertical-align: middle;\n",
       "    }\n",
       "\n",
       "    .dataframe tbody tr th {\n",
       "        vertical-align: top;\n",
       "    }\n",
       "\n",
       "    .dataframe thead th {\n",
       "        text-align: right;\n",
       "    }\n",
       "</style>\n",
       "<table border=\"1\" class=\"dataframe\">\n",
       "  <thead>\n",
       "    <tr style=\"text-align: right;\">\n",
       "      <th></th>\n",
       "      <th>price</th>\n",
       "      <th>city</th>\n",
       "      <th>state</th>\n",
       "      <th>zip_code</th>\n",
       "      <th>sold_date</th>\n",
       "    </tr>\n",
       "  </thead>\n",
       "  <tbody>\n",
       "    <tr>\n",
       "      <th>684</th>\n",
       "      <td>76900.0</td>\n",
       "      <td>CANOVANAS</td>\n",
       "      <td>Puerto Rico</td>\n",
       "      <td>729.0</td>\n",
       "      <td>2020-02-28</td>\n",
       "    </tr>\n",
       "    <tr>\n",
       "      <th>745</th>\n",
       "      <td>76900.0</td>\n",
       "      <td>CANOVANAS</td>\n",
       "      <td>Puerto Rico</td>\n",
       "      <td>729.0</td>\n",
       "      <td>2020-02-28</td>\n",
       "    </tr>\n",
       "    <tr>\n",
       "      <th>802</th>\n",
       "      <td>76900.0</td>\n",
       "      <td>CANOVANAS</td>\n",
       "      <td>Puerto Rico</td>\n",
       "      <td>729.0</td>\n",
       "      <td>2020-02-28</td>\n",
       "    </tr>\n",
       "    <tr>\n",
       "      <th>829</th>\n",
       "      <td>110000.0</td>\n",
       "      <td>DORADO</td>\n",
       "      <td>Puerto Rico</td>\n",
       "      <td>949.0</td>\n",
       "      <td>2019-06-28</td>\n",
       "    </tr>\n",
       "    <tr>\n",
       "      <th>932</th>\n",
       "      <td>76900.0</td>\n",
       "      <td>CANOVANAS</td>\n",
       "      <td>Puerto Rico</td>\n",
       "      <td>729.0</td>\n",
       "      <td>2020-02-28</td>\n",
       "    </tr>\n",
       "  </tbody>\n",
       "</table>\n",
       "</div>"
      ],
      "text/plain": [
       "        price       city        state  zip_code   sold_date\n",
       "684   76900.0  CANOVANAS  Puerto Rico     729.0  2020-02-28\n",
       "745   76900.0  CANOVANAS  Puerto Rico     729.0  2020-02-28\n",
       "802   76900.0  CANOVANAS  Puerto Rico     729.0  2020-02-28\n",
       "829  110000.0     DORADO  Puerto Rico     949.0  2019-06-28\n",
       "932   76900.0  CANOVANAS  Puerto Rico     729.0  2020-02-28"
      ]
     },
     "execution_count": 220,
     "metadata": {},
     "output_type": "execute_result"
    }
   ],
   "source": [
    "realty_df.head()\n"
   ]
  },
  {
   "cell_type": "code",
   "execution_count": 303,
   "id": "cf072af3",
   "metadata": {},
   "outputs": [
    {
     "name": "stdout",
     "output_type": "stream",
     "text": [
      "1657\n"
     ]
    }
   ],
   "source": [
    "realty_train = realty_df.sample(frac=0.5,random_state=200)\n",
    "realty_test = realty_df.drop(realty_train.index)\n",
    "realty_train = realty_train.reset_index()\n",
    "cities1 = realty_train[\"city\"].unique()\n",
    "cities1 = [c.upper() for c in cities1]\n",
    "\n",
    "cities2 = realty_test[\"city\"].unique()\n",
    "cities2 = [c.upper() for c in cities2]\n",
    "print(len(cities1))"
   ]
  },
  {
   "cell_type": "code",
   "execution_count": 304,
   "id": "eb1d67d7",
   "metadata": {},
   "outputs": [
    {
     "name": "stdout",
     "output_type": "stream",
     "text": [
      "4641\n"
     ]
    }
   ],
   "source": [
    "set_dif = set(cities).symmetric_difference(set(cities1))\n",
    "\n",
    "set_dif2 = set(cities).symmetric_difference(set(cities2))\n",
    "\n",
    "print(len(set(cities).symmetric_difference(set(cities1))))\n"
   ]
  },
  {
   "cell_type": "code",
   "execution_count": 305,
   "id": "0218577c",
   "metadata": {},
   "outputs": [
    {
     "name": "stdout",
     "output_type": "stream",
     "text": [
      "(1606, 14)\n",
      "(64201, 6)\n"
     ]
    }
   ],
   "source": [
    "emissions_df['City'] = emissions_df['City'].str.upper()\n",
    "emissions_train = emissions_df[~emissions_df[\"City\"].isin(list(set_dif))]\n",
    "realty_train = realty_train[~realty_train[\"city\"].isin(list(set_dif))]\n",
    "\n",
    "realty_test = realty_test[~realty_test[\"city\"].isin(list(set_dif2))]\n",
    "emissions_test = emissions_df[~emissions_df[\"City\"].isin(list(set_dif2))]\n",
    "\n",
    "print(emissions_train.shape)\n",
    "print(realty_train.shape)"
   ]
  },
  {
   "cell_type": "code",
   "execution_count": 297,
   "id": "67ca2fa1",
   "metadata": {},
   "outputs": [],
   "source": [
    "#TODO: convert cities to CBSA in order to bring in air quality data from EPA"
   ]
  },
  {
   "cell_type": "code",
   "execution_count": 298,
   "id": "b22f7e94",
   "metadata": {},
   "outputs": [
    {
     "data": {
      "text/plain": [
       "(107083, 5)"
      ]
     },
     "execution_count": 298,
     "metadata": {},
     "output_type": "execute_result"
    }
   ],
   "source": [
    "#realty_test = realty_test.reset_index()\n",
    "#realty_test.drop(\"index\", axis=1)\n",
    "realty_test.shape"
   ]
  },
  {
   "cell_type": "code",
   "execution_count": 309,
   "id": "97492fa6",
   "metadata": {},
   "outputs": [
    {
     "name": "stdout",
     "output_type": "stream",
     "text": [
      "(485,)\n",
      "(485,)\n"
     ]
    }
   ],
   "source": [
    "realty_train_labels_grp = realty_train.groupby([\"city\"])\n",
    "realty_train_labels_np = realty_train_labels_grp['price'].agg(np.mean).to_numpy()\n",
    "print(realty_train_labels_np.shape)\n",
    "\n",
    "emissions_grp = emissions_train.groupby([\"City\"])\n",
    "emissions_zip = emissions_grp['2021 Total reported direct emissions'].agg(np.sum).to_numpy()\n",
    "print(emissions_zip.shape)\n",
    "\n",
    "realty_train_labels_grp_test = realty_test.groupby([\"city\"])\n",
    "realty_train_labels_test = realty_train_labels_grp_test['price'].agg(np.mean).to_numpy()\n",
    "\n",
    "emissions_grp_test = emissions_test.groupby([\"City\"])\n",
    "emissions_zip_test = emissions_grp_test['2021 Total reported direct emissions'].agg(np.sum).to_numpy()\n"
   ]
  },
  {
   "cell_type": "code",
   "execution_count": 316,
   "id": "7724f4df",
   "metadata": {},
   "outputs": [],
   "source": [
    "prepro_x = MinMaxScaler()\n",
    "tez = emissions_zip.reshape(-1,1)\n",
    "prepro_x.fit(tez)\n",
    "emissions_zip = prepro_x.transform(tez)\n",
    "\n",
    "rtln = realty_train_labels_np.reshape(-1,1)\n",
    "prepro_y = MinMaxScaler()\n",
    "prepro_y.fit(rtln)\n",
    "realty_train_labels_np = prepro_y.transform(rtln)\n",
    "\n",
    "prepro_z = MinMaxScaler()\n",
    "tez = emissions_zip_test.reshape(-1,1)\n",
    "prepro_z.fit(tez)\n",
    "emissions_zip_test = prepro_x.transform(tez)\n",
    "\n",
    "rtln = realty_train_labels_test.reshape(-1,1)\n",
    "prepro_y = MinMaxScaler()\n",
    "prepro_y.fit(rtln)\n",
    "realty_train_labels_test = prepro_y.transform(rtln)\n"
   ]
  },
  {
   "cell_type": "code",
   "execution_count": 324,
   "id": "7162d215",
   "metadata": {},
   "outputs": [],
   "source": [
    "\n",
    "def build_model():\n",
    "    model = keras.Sequential([\n",
    "        Dense(64, activation=tf.nn.relu, input_dim=1),\n",
    "        Dense(64, activation=tf.nn.relu),\n",
    "        Dense(1)\n",
    "    ])\n",
    "\n",
    "    model.compile(optimizer='adam', \n",
    "                  loss='mse',\n",
    "                  metrics=['mae', 'mse'])\n",
    "    return model\n",
    "\n"
   ]
  },
  {
   "cell_type": "code",
   "execution_count": 330,
   "id": "041f6327",
   "metadata": {},
   "outputs": [
    {
     "ename": "KeyboardInterrupt",
     "evalue": "",
     "output_type": "error",
     "traceback": [
      "\u001b[0;31m----------------------------------------------\u001b[0m",
      "\u001b[0;31mKeyboardInterrupt\u001b[0mTraceback (most recent call last)",
      "\u001b[0;32m<ipython-input-330-beeeb8f6b7ad>\u001b[0m in \u001b[0;36m<module>\u001b[0;34m()\u001b[0m\n\u001b[1;32m      1\u001b[0m \u001b[0mmodel\u001b[0m \u001b[0;34m=\u001b[0m \u001b[0mbuild_model\u001b[0m\u001b[0;34m(\u001b[0m\u001b[0;34m)\u001b[0m\u001b[0;34m\u001b[0m\u001b[0;34m\u001b[0m\u001b[0m\n\u001b[1;32m      2\u001b[0m \u001b[0;34m\u001b[0m\u001b[0m\n\u001b[0;32m----> 3\u001b[0;31m \u001b[0mhistory\u001b[0m \u001b[0;34m=\u001b[0m \u001b[0mmodel\u001b[0m\u001b[0;34m.\u001b[0m\u001b[0mfit\u001b[0m\u001b[0;34m(\u001b[0m\u001b[0memissions_zip\u001b[0m\u001b[0;34m,\u001b[0m \u001b[0mrealty_train_labels_np\u001b[0m\u001b[0;34m,\u001b[0m \u001b[0mepochs\u001b[0m\u001b[0;34m=\u001b[0m\u001b[0;36m10000\u001b[0m\u001b[0;34m,\u001b[0m \u001b[0mbatch_size\u001b[0m\u001b[0;34m=\u001b[0m\u001b[0;36m256\u001b[0m\u001b[0;34m,\u001b[0m \u001b[0mverbose\u001b[0m\u001b[0;34m=\u001b[0m\u001b[0;36m0\u001b[0m\u001b[0;34m,\u001b[0m \u001b[0mvalidation_split\u001b[0m \u001b[0;34m=\u001b[0m \u001b[0;36m0.1\u001b[0m\u001b[0;34m)\u001b[0m\u001b[0;34m\u001b[0m\u001b[0;34m\u001b[0m\u001b[0m\n\u001b[0m\u001b[1;32m      4\u001b[0m \u001b[0;34m\u001b[0m\u001b[0m\n\u001b[1;32m      5\u001b[0m \u001b[0;34m\u001b[0m\u001b[0m\n",
      "\u001b[0;32m/home/justin/.local/lib/python3.6/site-packages/keras/engine/training.py\u001b[0m in \u001b[0;36mfit\u001b[0;34m(self, x, y, batch_size, epochs, verbose, callbacks, validation_split, validation_data, shuffle, class_weight, sample_weight, initial_epoch, steps_per_epoch, validation_steps, validation_batch_size, validation_freq, max_queue_size, workers, use_multiprocessing)\u001b[0m\n\u001b[1;32m   1182\u001b[0m                 _r=1):\n\u001b[1;32m   1183\u001b[0m               \u001b[0mcallbacks\u001b[0m\u001b[0;34m.\u001b[0m\u001b[0mon_train_batch_begin\u001b[0m\u001b[0;34m(\u001b[0m\u001b[0mstep\u001b[0m\u001b[0;34m)\u001b[0m\u001b[0;34m\u001b[0m\u001b[0;34m\u001b[0m\u001b[0m\n\u001b[0;32m-> 1184\u001b[0;31m               \u001b[0mtmp_logs\u001b[0m \u001b[0;34m=\u001b[0m \u001b[0mself\u001b[0m\u001b[0;34m.\u001b[0m\u001b[0mtrain_function\u001b[0m\u001b[0;34m(\u001b[0m\u001b[0miterator\u001b[0m\u001b[0;34m)\u001b[0m\u001b[0;34m\u001b[0m\u001b[0;34m\u001b[0m\u001b[0m\n\u001b[0m\u001b[1;32m   1185\u001b[0m               \u001b[0;32mif\u001b[0m \u001b[0mdata_handler\u001b[0m\u001b[0;34m.\u001b[0m\u001b[0mshould_sync\u001b[0m\u001b[0;34m:\u001b[0m\u001b[0;34m\u001b[0m\u001b[0;34m\u001b[0m\u001b[0m\n\u001b[1;32m   1186\u001b[0m                 \u001b[0mcontext\u001b[0m\u001b[0;34m.\u001b[0m\u001b[0masync_wait\u001b[0m\u001b[0;34m(\u001b[0m\u001b[0;34m)\u001b[0m\u001b[0;34m\u001b[0m\u001b[0;34m\u001b[0m\u001b[0m\n",
      "\u001b[0;32m/home/justin/.local/lib/python3.6/site-packages/tensorflow/python/eager/def_function.py\u001b[0m in \u001b[0;36m__call__\u001b[0;34m(self, *args, **kwds)\u001b[0m\n\u001b[1;32m    883\u001b[0m \u001b[0;34m\u001b[0m\u001b[0m\n\u001b[1;32m    884\u001b[0m       \u001b[0;32mwith\u001b[0m \u001b[0mOptionalXlaContext\u001b[0m\u001b[0;34m(\u001b[0m\u001b[0mself\u001b[0m\u001b[0;34m.\u001b[0m\u001b[0m_jit_compile\u001b[0m\u001b[0;34m)\u001b[0m\u001b[0;34m:\u001b[0m\u001b[0;34m\u001b[0m\u001b[0;34m\u001b[0m\u001b[0m\n\u001b[0;32m--> 885\u001b[0;31m         \u001b[0mresult\u001b[0m \u001b[0;34m=\u001b[0m \u001b[0mself\u001b[0m\u001b[0;34m.\u001b[0m\u001b[0m_call\u001b[0m\u001b[0;34m(\u001b[0m\u001b[0;34m*\u001b[0m\u001b[0margs\u001b[0m\u001b[0;34m,\u001b[0m \u001b[0;34m**\u001b[0m\u001b[0mkwds\u001b[0m\u001b[0;34m)\u001b[0m\u001b[0;34m\u001b[0m\u001b[0;34m\u001b[0m\u001b[0m\n\u001b[0m\u001b[1;32m    886\u001b[0m \u001b[0;34m\u001b[0m\u001b[0m\n\u001b[1;32m    887\u001b[0m       \u001b[0mnew_tracing_count\u001b[0m \u001b[0;34m=\u001b[0m \u001b[0mself\u001b[0m\u001b[0;34m.\u001b[0m\u001b[0mexperimental_get_tracing_count\u001b[0m\u001b[0;34m(\u001b[0m\u001b[0;34m)\u001b[0m\u001b[0;34m\u001b[0m\u001b[0;34m\u001b[0m\u001b[0m\n",
      "\u001b[0;32m/home/justin/.local/lib/python3.6/site-packages/tensorflow/python/eager/def_function.py\u001b[0m in \u001b[0;36m_call\u001b[0;34m(self, *args, **kwds)\u001b[0m\n\u001b[1;32m    915\u001b[0m       \u001b[0;31m# In this case we have created variables on the first call, so we run the\u001b[0m\u001b[0;34m\u001b[0m\u001b[0;34m\u001b[0m\u001b[0;34m\u001b[0m\u001b[0m\n\u001b[1;32m    916\u001b[0m       \u001b[0;31m# defunned version which is guaranteed to never create variables.\u001b[0m\u001b[0;34m\u001b[0m\u001b[0;34m\u001b[0m\u001b[0;34m\u001b[0m\u001b[0m\n\u001b[0;32m--> 917\u001b[0;31m       \u001b[0;32mreturn\u001b[0m \u001b[0mself\u001b[0m\u001b[0;34m.\u001b[0m\u001b[0m_stateless_fn\u001b[0m\u001b[0;34m(\u001b[0m\u001b[0;34m*\u001b[0m\u001b[0margs\u001b[0m\u001b[0;34m,\u001b[0m \u001b[0;34m**\u001b[0m\u001b[0mkwds\u001b[0m\u001b[0;34m)\u001b[0m  \u001b[0;31m# pylint: disable=not-callable\u001b[0m\u001b[0;34m\u001b[0m\u001b[0;34m\u001b[0m\u001b[0m\n\u001b[0m\u001b[1;32m    918\u001b[0m     \u001b[0;32melif\u001b[0m \u001b[0mself\u001b[0m\u001b[0;34m.\u001b[0m\u001b[0m_stateful_fn\u001b[0m \u001b[0;32mis\u001b[0m \u001b[0;32mnot\u001b[0m \u001b[0;32mNone\u001b[0m\u001b[0;34m:\u001b[0m\u001b[0;34m\u001b[0m\u001b[0;34m\u001b[0m\u001b[0m\n\u001b[1;32m    919\u001b[0m       \u001b[0;31m# Release the lock early so that multiple threads can perform the call\u001b[0m\u001b[0;34m\u001b[0m\u001b[0;34m\u001b[0m\u001b[0;34m\u001b[0m\u001b[0m\n",
      "\u001b[0;32m/home/justin/.local/lib/python3.6/site-packages/tensorflow/python/eager/function.py\u001b[0m in \u001b[0;36m__call__\u001b[0;34m(self, *args, **kwargs)\u001b[0m\n\u001b[1;32m   3038\u001b[0m        filtered_flat_args) = self._maybe_define_function(args, kwargs)\n\u001b[1;32m   3039\u001b[0m     return graph_function._call_flat(\n\u001b[0;32m-> 3040\u001b[0;31m         filtered_flat_args, captured_inputs=graph_function.captured_inputs)  # pylint: disable=protected-access\n\u001b[0m\u001b[1;32m   3041\u001b[0m \u001b[0;34m\u001b[0m\u001b[0m\n\u001b[1;32m   3042\u001b[0m   \u001b[0;34m@\u001b[0m\u001b[0mproperty\u001b[0m\u001b[0;34m\u001b[0m\u001b[0;34m\u001b[0m\u001b[0m\n",
      "\u001b[0;32m/home/justin/.local/lib/python3.6/site-packages/tensorflow/python/eager/function.py\u001b[0m in \u001b[0;36m_call_flat\u001b[0;34m(self, args, captured_inputs, cancellation_manager)\u001b[0m\n\u001b[1;32m   1962\u001b[0m       \u001b[0;31m# No tape is watching; skip to running the function.\u001b[0m\u001b[0;34m\u001b[0m\u001b[0;34m\u001b[0m\u001b[0;34m\u001b[0m\u001b[0m\n\u001b[1;32m   1963\u001b[0m       return self._build_call_outputs(self._inference_function.call(\n\u001b[0;32m-> 1964\u001b[0;31m           ctx, args, cancellation_manager=cancellation_manager))\n\u001b[0m\u001b[1;32m   1965\u001b[0m     forward_backward = self._select_forward_and_backward_functions(\n\u001b[1;32m   1966\u001b[0m         \u001b[0margs\u001b[0m\u001b[0;34m,\u001b[0m\u001b[0;34m\u001b[0m\u001b[0;34m\u001b[0m\u001b[0m\n",
      "\u001b[0;32m/home/justin/.local/lib/python3.6/site-packages/tensorflow/python/eager/function.py\u001b[0m in \u001b[0;36mcall\u001b[0;34m(self, ctx, args, cancellation_manager)\u001b[0m\n\u001b[1;32m    582\u001b[0m     \u001b[0;32melse\u001b[0m\u001b[0;34m:\u001b[0m\u001b[0;34m\u001b[0m\u001b[0;34m\u001b[0m\u001b[0m\n\u001b[1;32m    583\u001b[0m       \u001b[0mconfig\u001b[0m \u001b[0;34m=\u001b[0m \u001b[0mfunction_call_options\u001b[0m\u001b[0;34m.\u001b[0m\u001b[0mconfig_proto_serialized\u001b[0m\u001b[0;34m\u001b[0m\u001b[0;34m\u001b[0m\u001b[0m\n\u001b[0;32m--> 584\u001b[0;31m     \u001b[0mexecutor_type\u001b[0m \u001b[0;34m=\u001b[0m \u001b[0mfunction_call_options\u001b[0m\u001b[0;34m.\u001b[0m\u001b[0mexecutor_type\u001b[0m \u001b[0;32mor\u001b[0m \u001b[0;34m\"\"\u001b[0m\u001b[0;34m\u001b[0m\u001b[0;34m\u001b[0m\u001b[0m\n\u001b[0m\u001b[1;32m    585\u001b[0m \u001b[0;34m\u001b[0m\u001b[0m\n\u001b[1;32m    586\u001b[0m     \u001b[0mexecuting_eagerly\u001b[0m \u001b[0;34m=\u001b[0m \u001b[0mctx\u001b[0m\u001b[0;34m.\u001b[0m\u001b[0mexecuting_eagerly\u001b[0m\u001b[0;34m(\u001b[0m\u001b[0;34m)\u001b[0m\u001b[0;34m\u001b[0m\u001b[0;34m\u001b[0m\u001b[0m\n",
      "\u001b[0;32m/home/justin/.local/lib/python3.6/site-packages/tensorflow/python/eager/context.py\u001b[0m in \u001b[0;36mexecutor_type\u001b[0;34m(self)\u001b[0m\n\u001b[1;32m    153\u001b[0m     \u001b[0mself\u001b[0m\u001b[0;34m.\u001b[0m\u001b[0mexecutor_type\u001b[0m \u001b[0;34m=\u001b[0m \u001b[0mexecutor_type\u001b[0m\u001b[0;34m\u001b[0m\u001b[0;34m\u001b[0m\u001b[0m\n\u001b[1;32m    154\u001b[0m \u001b[0;34m\u001b[0m\u001b[0m\n\u001b[0;32m--> 155\u001b[0;31m   \u001b[0;34m@\u001b[0m\u001b[0mproperty\u001b[0m\u001b[0;34m\u001b[0m\u001b[0;34m\u001b[0m\u001b[0m\n\u001b[0m\u001b[1;32m    156\u001b[0m   \u001b[0;32mdef\u001b[0m \u001b[0mexecutor_type\u001b[0m\u001b[0;34m(\u001b[0m\u001b[0mself\u001b[0m\u001b[0;34m)\u001b[0m\u001b[0;34m:\u001b[0m\u001b[0;34m\u001b[0m\u001b[0;34m\u001b[0m\u001b[0m\n\u001b[1;32m    157\u001b[0m     \u001b[0;32mreturn\u001b[0m \u001b[0mself\u001b[0m\u001b[0;34m.\u001b[0m\u001b[0m_executor_type\u001b[0m\u001b[0;34m\u001b[0m\u001b[0;34m\u001b[0m\u001b[0m\n",
      "\u001b[0;31mKeyboardInterrupt\u001b[0m: "
     ]
    }
   ],
   "source": [
    "model = build_model()\n",
    "\n",
    "history = model.fit(emissions_zip, realty_train_labels_np, epochs=1000, batch_size=256, verbose=0, validation_split = 0.1)\n",
    "\n",
    "\n",
    "print()\n",
    "results = model.evaluate(emissions_zip_test, realty_train_labels_test)\n",
    "print(model.metrics_names)\n",
    "print(results)"
   ]
  },
  {
   "cell_type": "code",
   "execution_count": null,
   "id": "c6bf808a",
   "metadata": {},
   "outputs": [],
   "source": []
  },
  {
   "cell_type": "code",
   "execution_count": null,
   "id": "a3434c8c",
   "metadata": {},
   "outputs": [],
   "source": []
  }
 ],
 "metadata": {
  "kernelspec": {
   "display_name": "Python 3",
   "language": "python",
   "name": "python3"
  },
  "language_info": {
   "codemirror_mode": {
    "name": "ipython",
    "version": 3
   },
   "file_extension": ".py",
   "mimetype": "text/x-python",
   "name": "python",
   "nbconvert_exporter": "python",
   "pygments_lexer": "ipython3",
   "version": "3.6.9"
  }
 },
 "nbformat": 4,
 "nbformat_minor": 5
}
